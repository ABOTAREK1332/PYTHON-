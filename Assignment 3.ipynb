{
 "cells": [
  {
   "cell_type": "markdown",
   "metadata": {},
   "source": [
    "# Assignment 3"
   ]
  },
  {
   "cell_type": "markdown",
   "metadata": {},
   "source": [
    "### Write a function to count the number 4 in a given list."
   ]
  },
  {
   "cell_type": "code",
   "execution_count": 22,
   "metadata": {
    "collapsed": true
   },
   "outputs": [
    {
     "name": "stdout",
     "output_type": "stream",
     "text": [
      "Number of Counts of  4  is  10\n"
     ]
    }
   ],
   "source": [
    "def Counter(x,y):\n",
    "    counter = 0\n",
    "    for i in range(len(x)):\n",
    "        if x[i]==y:\n",
    "            counter = counter + 1\n",
    "    \n",
    "    return counter\n",
    "\n",
    "a=[1,2,3,4,4,4,4,5,6,7,4,4,8,9,4,4,4,4]\n",
    "b=4\n",
    "count=Counter(a,b)\n",
    "print(\"Number of Counts of \",b,\" is \",count)\n"
   ]
  },
  {
   "cell_type": "markdown",
   "metadata": {},
   "source": [
    "### write a  function to check whether a number is divisible by another number."
   ]
  },
  {
   "cell_type": "code",
   "execution_count": 19,
   "metadata": {
    "collapsed": true
   },
   "outputs": [
    {
     "name": "stdout",
     "output_type": "stream",
     "text": [
      "Neither Numbers are divisible by each other\n",
      "10  is divisable by  2\n",
      "9  is divisable by  3\n"
     ]
    }
   ],
   "source": [
    "def Divisible(x,y):\n",
    "    if(x%y == 0):\n",
    "        print(x,\" is divisable by \",y)\n",
    "    elif(y%x == 0):\n",
    "        print(y,\" is divisable by \",x)\n",
    "    else:\n",
    "        print(\"Neither Numbers are divisible by each other\")\n",
    "\n",
    "Divisible(3,2)\n",
    "Divisible(10,2)\n",
    "Divisible(3,9)\n",
    "\n",
    "\n"
   ]
  },
  {
   "cell_type": "markdown",
   "metadata": {},
   "source": [
    "### write a function to find the maximum and minimum numbers from a sequence of numbers."
   ]
  },
  {
   "cell_type": "code",
   "execution_count": 14,
   "metadata": {
    "collapsed": true
   },
   "outputs": [
    {
     "name": "stdout",
     "output_type": "stream",
     "text": [
      "max= 10  min= 2\n"
     ]
    }
   ],
   "source": [
    "def MaxMin(x):\n",
    "    max=0\n",
    "    min=x[0]\n",
    "    for i in range(len(x)):\n",
    "        if x[i]>max:\n",
    "            max = x[i]\n",
    "        if x[i]<min:\n",
    "            min = x[i]\n",
    "    \n",
    "    y=[max,min]\n",
    "    return y\n",
    "\n",
    "a=[5,6,7,3,2,9,10]\n",
    "b=[]\n",
    "b=MaxMin(a)\n",
    "print(\"max=\",b[0],\" min=\",b[1])\n"
   ]
  },
  {
   "cell_type": "markdown",
   "metadata": {},
   "source": [
    "### Write a Python function that takes two lists and returns True if they have at least one common member."
   ]
  },
  {
   "cell_type": "code",
   "execution_count": 12,
   "metadata": {
    "collapsed": true
   },
   "outputs": [
    {
     "name": "stdout",
     "output_type": "stream",
     "text": [
      "true\n"
     ]
    }
   ],
   "source": [
    "a=[1,2,3,4]\n",
    "b=[5,6,3,7]\n",
    "\n",
    "def fun(x,y):\n",
    "    for i in range (len(x)):\n",
    "        for j in range (len(y)):\n",
    "            if x[i] == y[j]:\n",
    "                return 'true'\n",
    "                break\n",
    "\n",
    "\n",
    "print(fun(a,b))\n",
    "\n"
   ]
  },
  {
   "cell_type": "markdown",
   "metadata": {},
   "source": [
    "### Write a Python function to calculate the factorial of a number (a non-negative integer). The function accepts the number from the user"
   ]
  },
  {
   "cell_type": "code",
   "execution_count": 2,
   "metadata": {
    "collapsed": true
   },
   "outputs": [
    {
     "name": "stdout",
     "output_type": "stream",
     "text": [
      "120\n"
     ]
    }
   ],
   "source": [
    "#x=input()\n",
    "x=5\n",
    "y=1\n",
    "for i in range(1,x+1,1):\n",
    "    y=y*i\n",
    "print(y)\n",
    "    \n"
   ]
  },
  {
   "cell_type": "markdown",
   "metadata": {},
   "source": [
    "### Write a Python function to check whether a number is in a given range.\n",
    "\n",
    "### The range is from 3 to 11\n"
   ]
  },
  {
   "cell_type": "code",
   "execution_count": 17,
   "metadata": {
    "collapsed": true
   },
   "outputs": [
    {
     "name": "stdout",
     "output_type": "stream",
     "text": [
      "number in range \n"
     ]
    }
   ],
   "source": [
    "def number (x):\n",
    "    if x>=3 and x<=11 :\n",
    "        return 'number in range '\n",
    "    else: return 'numer out of range'\n",
    "print(number(3))"
   ]
  },
  {
   "cell_type": "markdown",
   "metadata": {},
   "source": [
    "### Write a  program to create the multiplication table (from 1 to 10) of a number."
   ]
  },
  {
   "cell_type": "code",
   "execution_count": 28,
   "metadata": {
    "collapsed": true
   },
   "outputs": [
    {
     "name": "stdout",
     "output_type": "stream",
     "text": [
      "[0, 10, 20, 30, 40, 50, 60, 70, 80, 90, 100]\n"
     ]
    }
   ],
   "source": [
    "x=[]\n",
    "for i in range(11):\n",
    "    x.append(10*i)\n",
    "print(x)"
   ]
  },
  {
   "cell_type": "markdown",
   "metadata": {},
   "source": [
    "#### LESSER OF TWO EVENS: Write a function that returns the lesser of two given numbers *if* both numbers are even, but returns the greater if one or both numbers are odd\n",
    "    lesser_of_two_evens(2,4) --> 2\n",
    "    lesser_of_two_evens(2,5) --> 5"
   ]
  },
  {
   "cell_type": "code",
   "execution_count": 4,
   "metadata": {},
   "outputs": [
    {
     "name": "stdout",
     "output_type": "stream",
     "text": [
      "2\n",
      "5\n"
     ]
    }
   ],
   "source": [
    "def lesser_of_two_even(x,y):\n",
    "    if(x%y==0 or y%x==0):\n",
    "        if x<y:\n",
    "            return x\n",
    "        else:\n",
    "            return y\n",
    "    else:\n",
    "        if x>y:\n",
    "            return x\n",
    "        else:\n",
    "            return y\n",
    "\n",
    "print(lesser_of_two_even(2,4))\n",
    "print(lesser_of_two_even(2,5))"
   ]
  },
  {
   "cell_type": "markdown",
   "metadata": {},
   "source": []
  },
  {
   "cell_type": "markdown",
   "metadata": {},
   "source": [
    "#### ANIMAL CRACKERS: Write a function takes a two-word string and returns True if both words begin with same letter\n",
    "    animal_crackers('Levelheaded Llama') --> True\n",
    "    animal_crackers('Crazy Kangaroo') --> False"
   ]
  },
  {
   "cell_type": "code",
   "execution_count": 14,
   "metadata": {},
   "outputs": [
    {
     "name": "stdout",
     "output_type": "stream",
     "text": [
      "False\n"
     ]
    }
   ],
   "source": [
    "x = \"\"\n",
    "def animal_crackers (x):\n",
    "    a = x.split()\n",
    "    if a[0][0]==a[1][0]:\n",
    "        return True\n",
    "    else :\n",
    "        return False\n",
    "print(animal_crackers('Crazy Kangaroo'))"
   ]
  },
  {
   "cell_type": "markdown",
   "metadata": {},
   "source": [
    "#### MAKES TWENTY: Given two integers, return True if the sum of the integers is 20 *or* if one of the integers is 20. If not, return False\n",
    "\n",
    "    makes_twenty(20,10) --> True\n",
    "    makes_twenty(12,8) --> True\n",
    "    makes_twenty(2,3) --> False"
   ]
  },
  {
   "cell_type": "code",
   "execution_count": 3,
   "metadata": {},
   "outputs": [
    {
     "name": "stdout",
     "output_type": "stream",
     "text": [
      "False\n"
     ]
    }
   ],
   "source": [
    "def makes_twenty(x,y):\n",
    "    if x+y==20 or x==20 or y==20 :\n",
    "        return True\n",
    "    else : return False \n",
    "print(makes_twenty(2,3))\n"
   ]
  },
  {
   "cell_type": "markdown",
   "metadata": {},
   "source": [
    "#### ALMOST THERE: Given an integer n, return True if n is within 10 of either 100 or 200\n",
    "\n",
    "    almost_there(90) --> True\n",
    "    almost_there(104) --> True\n",
    "    almost_there(150) --> False\n",
    "    almost_there(209) --> True\n",
    "    \n",
    "NOTE: `abs(num)` returns the absolute value of a number"
   ]
  },
  {
   "cell_type": "code",
   "execution_count": 8,
   "metadata": {},
   "outputs": [
    {
     "data": {
      "text/plain": [
       "True"
      ]
     },
     "execution_count": 8,
     "metadata": {},
     "output_type": "execute_result"
    }
   ],
   "source": [
    "def almost_there (x):\n",
    "    if x%10==0 and x>100 :\n",
    "        return False\n",
    "    else :\n",
    "        return True\n",
    "almost_there (90)"
   ]
  },
  {
   "cell_type": "markdown",
   "metadata": {},
   "source": [
    "#### BLACKJACK: Given three integers between 1 and 11, if their sum is less than or equal to 21, return their sum. If their sum exceeds 21 *and* there's an eleven, reduce the total sum by 10. Finally, if the sum  exceeds 21, return 'BUST'\n",
    "    blackjack(5,6,7) --> 18\n",
    "    blackjack(9,9,9) --> 'BUST'\n",
    "    blackjack(9,9,11) --> 19"
   ]
  },
  {
   "cell_type": "code",
   "execution_count": 2,
   "metadata": {},
   "outputs": [
    {
     "data": {
      "text/plain": [
       "'bust'"
      ]
     },
     "execution_count": 2,
     "metadata": {},
     "output_type": "execute_result"
    }
   ],
   "source": [
    "def blackjack(x,y,z):\n",
    "    if (x >=1 and x<=11) and (y>=1 and y<=11) and (z >=1 and z<=11):\n",
    "        if (x+y+z)<=21 :\n",
    "            return(x+y+z)\n",
    "        elif (x+y+z)>21 and (x==11 or y ==11 or z==11 ) :\n",
    "            return (x+y+z)-10 \n",
    "        else : return \"bust\"\n",
    "        \n",
    "blackjack(9,9,9)\n"
   ]
  }
 ],
 "metadata": {
  "kernelspec": {
   "display_name": "Python 3.10.5 64-bit",
   "language": "python",
   "name": "python3"
  },
  "language_info": {
   "codemirror_mode": {
    "name": "ipython",
    "version": 3
   },
   "file_extension": ".py",
   "mimetype": "text/x-python",
   "name": "python",
   "nbconvert_exporter": "python",
   "pygments_lexer": "ipython3",
   "version": "3.10.5"
  },
  "vscode": {
   "interpreter": {
    "hash": "33c1466968bfa318e1b18cdf2543da5bafcf804f1d38f189ce36f0f31c6b1d34"
   }
  }
 },
 "nbformat": 4,
 "nbformat_minor": 2
}
